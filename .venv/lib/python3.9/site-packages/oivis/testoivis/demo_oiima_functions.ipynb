{
 "cells": [
  {
   "cell_type": "code",
   "execution_count": 2,
   "metadata": {},
   "outputs": [
    {
     "name": "stdout",
     "output_type": "stream",
     "text": [
      "%pylab is deprecated, use %matplotlib inline and import the required libraries.\n",
      "Populating the interactive namespace from numpy and matplotlib\n"
     ]
    }
   ],
   "source": [
    "%pylab inline"
   ]
  },
  {
   "cell_type": "code",
   "execution_count": 3,
   "metadata": {},
   "outputs": [],
   "source": [
    "from oivis.oimisc import mcfost_load\n",
    "from oivis.oifourier import imavis\n",
    "from oivis.oifits import oifits_read\n",
    "import importlib\n",
    "from astropy.io import fits"
   ]
  },
  {
   "cell_type": "code",
   "execution_count": 4,
   "metadata": {},
   "outputs": [],
   "source": [
    "from scipy.constants import arcsecond"
   ]
  },
  {
   "cell_type": "code",
   "execution_count": 5,
   "metadata": {},
   "outputs": [],
   "source": [
    "datadir = os.path.dirname(os.path.abspath(\".\")) + \"/data/\""
   ]
  },
  {
   "cell_type": "code",
   "execution_count": 6,
   "metadata": {},
   "outputs": [
    {
     "data": {
      "text/plain": [
       "<module 'oivis.oifourier.imavis' from '/Users/bergejea/Software/tihpy/oivis/oifourier/imavis.py'>"
      ]
     },
     "execution_count": 6,
     "metadata": {},
     "output_type": "execute_result"
    }
   ],
   "source": [
    "importlib.reload(mcfost_load)\n",
    "importlib.reload(oifits_read)\n",
    "importlib.reload(imavis)"
   ]
  },
  {
   "cell_type": "code",
   "execution_count": 9,
   "metadata": {},
   "outputs": [],
   "source": [
    "wavel, pixel, data = mcfost_load.load_cube(datadir + \"mcfost_hd100546_RT.fits.gz\")"
   ]
  },
  {
   "cell_type": "code",
   "execution_count": 10,
   "metadata": {},
   "outputs": [
    {
     "data": {
      "text/plain": [
       "(1, 1, 1, 1001, 1001)"
      ]
     },
     "execution_count": 10,
     "metadata": {},
     "output_type": "execute_result"
    }
   ],
   "source": [
    "data.shape"
   ]
  },
  {
   "cell_type": "code",
   "execution_count": 11,
   "metadata": {},
   "outputs": [],
   "source": [
    "file = \"Aspro2_HD_100546_mcfost.fits\""
   ]
  },
  {
   "cell_type": "code",
   "execution_count": 12,
   "metadata": {},
   "outputs": [],
   "source": [
    "# il faut corriger la longueur d'onde car aspro2 ne se sert pas de la longueur d'onde contenue dans le fichier mcfost\n",
    "# la longueur d'onde de l'oifits est\n",
    "wavel = 2.2e-6"
   ]
  },
  {
   "cell_type": "code",
   "execution_count": 13,
   "metadata": {},
   "outputs": [],
   "source": [
    "hdr = fits.open(datadir + file)"
   ]
  },
  {
   "cell_type": "code",
   "execution_count": 17,
   "metadata": {},
   "outputs": [],
   "source": [
    "oid = oifits_read.Oifits([datadir + file])"
   ]
  },
  {
   "cell_type": "code",
   "execution_count": 18,
   "metadata": {},
   "outputs": [],
   "source": [
    "freq = [oid.v2data['UCOORD'] / wavel, oid.v2data['VCOORD'] / wavel]"
   ]
  },
  {
   "cell_type": "code",
   "execution_count": 19,
   "metadata": {},
   "outputs": [],
   "source": [
    "base = np.sqrt(freq[0]**2 + freq[1]**2) * wavel"
   ]
  },
  {
   "cell_type": "code",
   "execution_count": 20,
   "metadata": {},
   "outputs": [],
   "source": [
    "pixsize = pixel /180 *np.pi "
   ]
  },
  {
   "cell_type": "code",
   "execution_count": 21,
   "metadata": {},
   "outputs": [
    {
     "name": "stdout",
     "output_type": "stream",
     "text": [
      "Multiplicative noise variance 0\n",
      "Additive noise variance 0\n"
     ]
    }
   ],
   "source": [
    "visas = imavis.ima_to_vis(data[0,0,0,:,::-1]/np.sum(data[0,0,0,:,:]), freq, pixsize, sigmul=0, sigadd=0)"
   ]
  },
  {
   "cell_type": "code",
   "execution_count": 22,
   "metadata": {},
   "outputs": [
    {
     "data": {
      "text/plain": [
       "[<matplotlib.lines.Line2D at 0x7fdcfe7c3d00>]"
      ]
     },
     "execution_count": 22,
     "metadata": {},
     "output_type": "execute_result"
    },
    {
     "data": {
      "image/png": "[encoded data removed]",
      "text/plain": [
       "<Figure size 432x288 with 1 Axes>"
      ]
     },
     "metadata": {
      "needs_background": "light"
     },
     "output_type": "display_data"
    }
   ],
   "source": [
    "plot(base,np.abs(visas)**2,'o')\n",
    "plot(base,oid.v2data['VIS2DATA'], 'ro')\n",
    "plot(base, np.abs(np.abs(visas)**2 - oid.v2data['VIS2DATA']),'go')"
   ]
  },
  {
   "cell_type": "code",
   "execution_count": 24,
   "metadata": {},
   "outputs": [
    {
     "data": {
      "text/plain": [
       "[<matplotlib.lines.Line2D at 0x7fdce4095ca0>]"
      ]
     },
     "execution_count": 24,
     "metadata": {},
     "output_type": "execute_result"
    },
    {
     "data": {
      "image/png": "[encoded data removed]",
      "text/plain": [
       "<Figure size 432x288 with 1 Axes>"
      ]
     },
     "metadata": {
      "needs_background": "light"
     },
     "output_type": "display_data"
    }
   ],
   "source": [
    "plot(np.abs(visas)**2,oid.v2data['VIS2DATA'],'o' )\n",
    "plot([0,1],[0,1])"
   ]
  },
  {
   "cell_type": "markdown",
   "metadata": {},
   "source": [
    "*** Ca marche !!!***"
   ]
  },
  {
   "cell_type": "code",
   "execution_count": 22,
   "metadata": {},
   "outputs": [
    {
     "data": {
      "text/plain": [
       "{'FWHM': array([0, 0, 0, 0, 0, 0, 0, 0, 0, 0, 0, 0, 0, 0, 0, 0, 0, 0, 0, 0, 0, 0,\n",
       "        0, 0, 0, 0, 0, 0, 0, 0, 0, 0]),\n",
       " 'TAU0': array([0, 0, 0, 0, 0, 0, 0, 0, 0, 0, 0, 0, 0, 0, 0, 0, 0, 0, 0, 0, 0, 0,\n",
       "        0, 0, 0, 0, 0, 0, 0, 0, 0, 0]),\n",
       " 'WINDSP': array([0, 0, 0, 0, 0, 0, 0, 0, 0, 0, 0, 0, 0, 0, 0, 0, 0, 0, 0, 0, 0, 0,\n",
       "        0, 0, 0, 0, 0, 0, 0, 0, 0, 0]),\n",
       " 'NMEAS': array([32, 32, 32, 32, 32, 32, 32, 32, 32, 32, 32, 32, 32, 32, 32, 32, 32,\n",
       "        32, 32, 32, 32, 32, 32, 32, 32, 32, 32, 32, 32, 32, 32, 32]),\n",
       " 'TARGET': array(['HD 100546', 'HD 100546', 'HD 100546', 'HD 100546', 'HD 100546',\n",
       "        'HD 100546', 'HD 100546', 'HD 100546', 'HD 100546', 'HD 100546',\n",
       "        'HD 100546', 'HD 100546', 'HD 100546', 'HD 100546', 'HD 100546',\n",
       "        'HD 100546', 'HD 100546', 'HD 100546', 'HD 100546', 'HD 100546',\n",
       "        'HD 100546', 'HD 100546', 'HD 100546', 'HD 100546', 'HD 100546',\n",
       "        'HD 100546', 'HD 100546', 'HD 100546', 'HD 100546', 'HD 100546',\n",
       "        'HD 100546', 'HD 100546'], dtype='<U9'),\n",
       " 'TYPE': array(['T3', 'T3', 'T3', 'T3', 'T3', 'T3', 'T3', 'T3', 'T3', 'T3', 'T3',\n",
       "        'T3', 'T3', 'T3', 'T3', 'T3', 'T3', 'T3', 'T3', 'T3', 'T3', 'T3',\n",
       "        'T3', 'T3', 'T3', 'T3', 'T3', 'T3', 'T3', 'T3', 'T3', 'T3'],\n",
       "       dtype='<U2'),\n",
       " 'MJD': array([58528.04408963, 58528.04408963, 58528.04408963, 58528.04408963,\n",
       "        58528.0857563 , 58528.0857563 , 58528.0857563 , 58528.0857563 ,\n",
       "        58528.12742297, 58528.12742297, 58528.12742297, 58528.12742297,\n",
       "        58528.16908963, 58528.16908963, 58528.16908963, 58528.16908963,\n",
       "        58528.2107563 , 58528.2107563 , 58528.2107563 , 58528.2107563 ,\n",
       "        58528.25242297, 58528.25242297, 58528.25242297, 58528.25242297,\n",
       "        58528.29408963, 58528.29408963, 58528.29408963, 58528.29408963,\n",
       "        58528.3357563 , 58528.3357563 , 58528.3357563 , 58528.3357563 ]),\n",
       " 'DIT': array([1., 1., 1., 1., 1., 1., 1., 1., 1., 1., 1., 1., 1., 1., 1., 1., 1.,\n",
       "        1., 1., 1., 1., 1., 1., 1., 1., 1., 1., 1., 1., 1., 1., 1.]),\n",
       " 'EFF_WAVE': array([2.2e-06, 2.2e-06, 2.2e-06, 2.2e-06, 2.2e-06, 2.2e-06, 2.2e-06,\n",
       "        2.2e-06, 2.2e-06, 2.2e-06, 2.2e-06, 2.2e-06, 2.2e-06, 2.2e-06,\n",
       "        2.2e-06, 2.2e-06, 2.2e-06, 2.2e-06, 2.2e-06, 2.2e-06, 2.2e-06,\n",
       "        2.2e-06, 2.2e-06, 2.2e-06, 2.2e-06, 2.2e-06, 2.2e-06, 2.2e-06,\n",
       "        2.2e-06, 2.2e-06, 2.2e-06, 2.2e-06], dtype=float32),\n",
       " 'EFF_BAND': array([5.e-07, 5.e-07, 5.e-07, 5.e-07, 5.e-07, 5.e-07, 5.e-07, 5.e-07,\n",
       "        5.e-07, 5.e-07, 5.e-07, 5.e-07, 5.e-07, 5.e-07, 5.e-07, 5.e-07,\n",
       "        5.e-07, 5.e-07, 5.e-07, 5.e-07, 5.e-07, 5.e-07, 5.e-07, 5.e-07,\n",
       "        5.e-07, 5.e-07, 5.e-07, 5.e-07, 5.e-07, 5.e-07, 5.e-07, 5.e-07],\n",
       "       dtype=float32),\n",
       " 'TEL1': array(['D0', 'D0', 'D0', 'G2', 'D0', 'D0', 'D0', 'G2', 'D0', 'D0', 'D0',\n",
       "        'G2', 'D0', 'D0', 'D0', 'G2', 'D0', 'D0', 'D0', 'G2', 'D0', 'D0',\n",
       "        'D0', 'G2', 'D0', 'D0', 'D0', 'G2', 'D0', 'D0', 'D0', 'G2'],\n",
       "       dtype='<U2'),\n",
       " 'TEL2': array(['G2', 'G2', 'J3', 'J3', 'G2', 'G2', 'J3', 'J3', 'G2', 'G2', 'J3',\n",
       "        'J3', 'G2', 'G2', 'J3', 'J3', 'G2', 'G2', 'J3', 'J3', 'G2', 'G2',\n",
       "        'J3', 'J3', 'G2', 'G2', 'J3', 'J3', 'G2', 'G2', 'J3', 'J3'],\n",
       "       dtype='<U2'),\n",
       " 'TEL3': array(['J3', 'K0', 'K0', 'K0', 'J3', 'K0', 'K0', 'K0', 'J3', 'K0', 'K0',\n",
       "        'K0', 'J3', 'K0', 'K0', 'K0', 'J3', 'K0', 'K0', 'K0', 'J3', 'K0',\n",
       "        'K0', 'K0', 'J3', 'K0', 'K0', 'K0', 'J3', 'K0', 'K0', 'K0'],\n",
       "       dtype='<U2'),\n",
       " 'CONFIG': array(['D0G2J3', 'D0G2K0', 'D0J3K0', 'G2J3K0', 'D0G2J3', 'D0G2K0',\n",
       "        'D0J3K0', 'G2J3K0', 'D0G2J3', 'D0G2K0', 'D0J3K0', 'G2J3K0',\n",
       "        'D0G2J3', 'D0G2K0', 'D0J3K0', 'G2J3K0', 'D0G2J3', 'D0G2K0',\n",
       "        'D0J3K0', 'G2J3K0', 'D0G2J3', 'D0G2K0', 'D0J3K0', 'G2J3K0',\n",
       "        'D0G2J3', 'D0G2K0', 'D0J3K0', 'G2J3K0', 'D0G2J3', 'D0G2K0',\n",
       "        'D0J3K0', 'G2J3K0'], dtype='<U6'),\n",
       " 'U1COORD': array([  7.40458445,   7.40458445,  23.30140103,  15.89681658,\n",
       "          1.10982686,   1.10982686,   4.95184319,   3.84201633,\n",
       "         -5.26097594,  -5.26097594, -13.73701434,  -8.4760384 ,\n",
       "        -11.2712973 , -11.2712973 , -31.48461332, -20.21331602,\n",
       "        -16.50931076, -16.50931076, -47.07489045, -30.56557969,\n",
       "        -20.61610825, -20.61610825, -59.43960183, -38.82349358,\n",
       "        -23.31029253, -23.31029253, -67.73151896, -44.42122643,\n",
       "        -24.40725841, -24.40725841, -71.38248068, -46.97522227]),\n",
       " 'V1COORD': array([-32.69253405, -32.69253405, -89.30613959, -56.61360554,\n",
       "        -33.75079578, -33.75079578, -92.81775373, -59.06695795,\n",
       "        -33.23484675, -33.23484675, -91.72583908, -58.49099233,\n",
       "        -31.18003974, -31.18003974, -86.10521351, -54.92517377,\n",
       "        -27.72716985, -27.72716985, -76.34100158, -48.61383172,\n",
       "        -23.11282732, -23.11282732, -63.1022459 , -39.98941858,\n",
       "        -17.65318634, -17.65318634, -47.29606441, -29.64287807,\n",
       "        -11.72234083, -11.72234083, -30.00549471, -18.28315389]),\n",
       " 'U2COORD': array([ 15.89681658,  -3.42616364, -19.32298021, -19.32298021,\n",
       "          3.84201633, -21.0408426 , -24.88285894, -24.88285894,\n",
       "         -8.4760384 , -37.2138056 , -28.7377672 , -28.7377672 ,\n",
       "        -20.21331602, -50.83688318, -30.62356717, -30.62356717,\n",
       "        -30.56557969, -60.97662374, -30.41104406, -30.41104406,\n",
       "        -38.82349358, -66.93825349, -28.11475992, -28.11475992,\n",
       "        -44.42122643, -68.31328229, -23.89205587, -23.89205587,\n",
       "        -46.97522227, -65.00749333, -18.03227107, -18.03227107]),\n",
       " 'V2COORD': array([-56.61360554, -63.1138203 ,  -6.50021476,  -6.50021476,\n",
       "        -59.06695795, -60.07280015,  -1.0058422 ,  -1.0058422 ,\n",
       "        -58.49099233, -52.83229195,   5.65870038,   5.65870038,\n",
       "        -54.92517377, -41.88841445,  13.03675932,  13.03675932,\n",
       "        -48.61383172, -27.99104079,  20.62279093,  20.62279093,\n",
       "        -39.98941858, -12.09241732,  27.89700126,  27.89700126,\n",
       "        -29.64287807,   4.71808422,  34.36096229,  34.36096229,\n",
       "        -18.28315389,  21.28861033,  39.57176421,  39.57176421]),\n",
       " 'ARRNAME': array(['VLTI', 'VLTI', 'VLTI', 'VLTI', 'VLTI', 'VLTI', 'VLTI', 'VLTI',\n",
       "        'VLTI', 'VLTI', 'VLTI', 'VLTI', 'VLTI', 'VLTI', 'VLTI', 'VLTI',\n",
       "        'VLTI', 'VLTI', 'VLTI', 'VLTI', 'VLTI', 'VLTI', 'VLTI', 'VLTI',\n",
       "        'VLTI', 'VLTI', 'VLTI', 'VLTI', 'VLTI', 'VLTI', 'VLTI', 'VLTI'],\n",
       "       dtype='<U4'),\n",
       " 'INSNAME': array(['GRAVITY_FT_2.2-1ch', 'GRAVITY_FT_2.2-1ch', 'GRAVITY_FT_2.2-1ch',\n",
       "        'GRAVITY_FT_2.2-1ch', 'GRAVITY_FT_2.2-1ch', 'GRAVITY_FT_2.2-1ch',\n",
       "        'GRAVITY_FT_2.2-1ch', 'GRAVITY_FT_2.2-1ch', 'GRAVITY_FT_2.2-1ch',\n",
       "        'GRAVITY_FT_2.2-1ch', 'GRAVITY_FT_2.2-1ch', 'GRAVITY_FT_2.2-1ch',\n",
       "        'GRAVITY_FT_2.2-1ch', 'GRAVITY_FT_2.2-1ch', 'GRAVITY_FT_2.2-1ch',\n",
       "        'GRAVITY_FT_2.2-1ch', 'GRAVITY_FT_2.2-1ch', 'GRAVITY_FT_2.2-1ch',\n",
       "        'GRAVITY_FT_2.2-1ch', 'GRAVITY_FT_2.2-1ch', 'GRAVITY_FT_2.2-1ch',\n",
       "        'GRAVITY_FT_2.2-1ch', 'GRAVITY_FT_2.2-1ch', 'GRAVITY_FT_2.2-1ch',\n",
       "        'GRAVITY_FT_2.2-1ch', 'GRAVITY_FT_2.2-1ch', 'GRAVITY_FT_2.2-1ch',\n",
       "        'GRAVITY_FT_2.2-1ch', 'GRAVITY_FT_2.2-1ch', 'GRAVITY_FT_2.2-1ch',\n",
       "        'GRAVITY_FT_2.2-1ch', 'GRAVITY_FT_2.2-1ch'], dtype='<U18'),\n",
       " 'DATE-OBS': array(['2019-02-14', '2019-02-14', '2019-02-14', '2019-02-14',\n",
       "        '2019-02-14', '2019-02-14', '2019-02-14', '2019-02-14',\n",
       "        '2019-02-14', '2019-02-14', '2019-02-14', '2019-02-14',\n",
       "        '2019-02-14', '2019-02-14', '2019-02-14', '2019-02-14',\n",
       "        '2019-02-14', '2019-02-14', '2019-02-14', '2019-02-14',\n",
       "        '2019-02-14', '2019-02-14', '2019-02-14', '2019-02-14',\n",
       "        '2019-02-14', '2019-02-14', '2019-02-14', '2019-02-14',\n",
       "        '2019-02-14', '2019-02-14', '2019-02-14', '2019-02-14'],\n",
       "       dtype='<U10'),\n",
       " 'T3AMP': array([0.16269983, 0.11428681, 0.09034903, 0.2464274 , 0.13196811,\n",
       "        0.07929349, 0.06084591, 0.19756855, 0.10308829, 0.05386742,\n",
       "        0.03910041, 0.15861924, 0.08162712, 0.04005747, 0.02663394,\n",
       "        0.13418918, 0.06990454, 0.03650205, 0.02173687, 0.12461375,\n",
       "        0.06892104, 0.04283563, 0.02312092, 0.12874236, 0.08082694,\n",
       "        0.06128932, 0.03161086, 0.1453129 , 0.11057598, 0.09483266,\n",
       "        0.05006958, 0.17253812]),\n",
       " 'T3AMPERR': array([0.02023216, 0.01962058, 0.01771421, 0.02111058, 0.01627133,\n",
       "        0.0168662 , 0.01647183, 0.01643006, 0.0133934 , 0.01271748,\n",
       "        0.01230021, 0.0129643 , 0.01174617, 0.01033892, 0.00986214,\n",
       "        0.01049917, 0.01129381, 0.00914459, 0.00852999, 0.00943214,\n",
       "        0.01125577, 0.0088231 , 0.00795948, 0.00891113, 0.01089277,\n",
       "        0.01000144, 0.00651604, 0.00860411, 0.01142123, 0.01010107,\n",
       "        0.00694123, 0.0094789 ]),\n",
       " 'BP1': array([33.52058552, 33.52058552, 92.29594714, 58.80313861, 33.76903806,\n",
       "        33.76903806, 92.94975072, 59.19177824, 33.64866872, 33.64866872,\n",
       "        92.74877421, 59.10194084, 33.15474356, 33.15474356, 91.68090678,\n",
       "        58.52651414, 32.27000604, 32.27000604, 89.68831491, 57.42437894,\n",
       "        30.97138528, 30.97138528, 86.68886724, 55.73524246, 29.24046384,\n",
       "        29.24046384, 82.61038899, 53.40361015, 27.076328  , 27.076328  ,\n",
       "        77.43247549, 50.40778931]),\n",
       " 'BP2': array([58.80313861, 63.20674735, 20.3870144 , 20.3870144 , 59.19177824,\n",
       "        63.65106735, 24.90318026, 24.90318026, 59.10194084, 64.62289378,\n",
       "        29.28959122, 29.28959122, 58.52651414, 65.87129843, 33.2830281 ,\n",
       "        33.2830281 , 57.42437894, 67.09431427, 36.74413023, 36.74413023,\n",
       "        55.73524246, 68.0217343 , 39.60659547, 39.60659547, 53.40361015,\n",
       "        68.47601665, 41.85099835, 41.85099835, 50.40778931, 68.40452558,\n",
       "        43.48663384, 43.48663384]),\n",
       " 'BP3': array([92.29594714, 95.88892202, 95.88892202, 63.20674735, 92.94975072,\n",
       "        95.91721713, 95.91721713, 63.65106735, 92.74877421, 95.97739021,\n",
       "        95.97739021, 64.62289378, 91.68090678, 95.8979931 , 95.8979931 ,\n",
       "        65.87129843, 89.68831491, 95.43892834, 95.43892834, 67.09431427,\n",
       "        86.68886724, 94.36723749, 94.36723749, 68.0217343 , 82.61038899,\n",
       "        92.53213674, 92.53213674, 68.47601665, 77.43247549, 89.92503179,\n",
       "        89.92503179, 68.40452558]),\n",
       " 'BMAX': array([92.29594714, 95.88892202, 95.88892202, 63.20674735, 92.94975072,\n",
       "        95.91721713, 95.91721713, 63.65106735, 92.74877421, 95.97739021,\n",
       "        95.97739021, 64.62289378, 91.68090678, 95.8979931 , 95.8979931 ,\n",
       "        65.87129843, 89.68831491, 95.43892834, 95.43892834, 67.09431427,\n",
       "        86.68886724, 94.36723749, 94.36723749, 68.0217343 , 82.61038899,\n",
       "        92.53213674, 92.53213674, 68.47601665, 77.43247549, 89.92503179,\n",
       "        89.92503179, 68.40452558]),\n",
       " 'BGEO': array([56.66282782, 58.78698106, 56.50691084, 42.3161219 , 57.06144544,\n",
       "        59.0754425 , 60.55265693, 45.44024142, 56.92363203, 59.31634851,\n",
       "        63.88469247, 48.18373759, 56.24178258, 59.38596327, 66.39016533,\n",
       "        50.43792808, 54.98071787, 59.1203196 , 68.00640175, 52.11827092,\n",
       "        53.09063884, 58.36375034, 68.68322737, 53.15144011, 50.52773693,\n",
       "        57.00834665, 68.39290122, 53.48988236, 47.27920738, 55.01972312,\n",
       "        67.1511073 , 53.12669011]),\n",
       " 'T3PHI': array([-21.96522583, -22.99800385,  -3.8340878 ,  -2.80130979,\n",
       "        -22.2604386 , -22.45159998,  -1.11728019,  -0.92611881,\n",
       "        -21.27887006, -19.81227899,   3.63132633,   2.16473526,\n",
       "        -18.58526506, -14.04606162,  10.51186897,   5.97266553,\n",
       "        -13.8611188 ,  -5.50885725,  17.86549347,   9.51323192,\n",
       "         -7.39056587,   3.53027422,  22.5103942 ,  11.58955412,\n",
       "         -0.5429128 ,  10.09040272,  22.18789712,  11.5545816 ,\n",
       "          4.89059825,  13.13522729,  17.92121812,   9.67658908]),\n",
       " 'T3PHIERR': array([ 7.08542996,  9.6806423 , 11.33123542,  4.86699315,  7.14857868,\n",
       "        12.18715443, 15.51076137,  4.60944782,  7.45942962, 13.52688195,\n",
       "        18.02411895,  4.60529031,  8.59628508, 14.78816484, 21.21575115,\n",
       "         4.65659026,  9.23697634, 14.35388836, 22.48403843,  4.39371466,\n",
       "         9.14079139, 11.80153613, 19.72432082,  3.85498662,  7.99659005,\n",
       "         9.48202462, 12.09994328,  3.63688847,  5.956963  ,  6.04180951,\n",
       "         7.94389102,  3.22279825]),\n",
       " 'BPMAX': array([92.29594714, 95.88892202, 95.88892202, 63.20674735, 92.94975072,\n",
       "        95.91721713, 95.91721713, 63.65106735, 92.74877421, 95.97739021,\n",
       "        95.97739021, 64.62289378, 91.68090678, 95.8979931 , 95.8979931 ,\n",
       "        65.87129843, 89.68831491, 95.43892834, 95.43892834, 67.09431427,\n",
       "        86.68886724, 94.36723749, 94.36723749, 68.0217343 , 82.61038899,\n",
       "        92.53213674, 92.53213674, 68.47601665, 77.43247549, 89.92503179,\n",
       "        89.92503179, 68.40452558]),\n",
       " 'BPGEOM': array([56.66282782, 58.78698106, 56.50691084, 42.3161219 , 57.06144544,\n",
       "        59.0754425 , 60.55265693, 45.44024142, 56.92363203, 59.31634851,\n",
       "        63.88469247, 48.18373759, 56.24178258, 59.38596327, 66.39016533,\n",
       "        50.43792808, 54.98071787, 59.1203196 , 68.00640175, 52.11827092,\n",
       "        53.09063884, 58.36375034, 68.68322737, 53.15144011, 50.52773693,\n",
       "        57.00834665, 68.39290122, 53.48988236, 47.27920738, 55.01972312,\n",
       "        67.1511073 , 53.12669011])}"
      ]
     },
     "execution_count": 22,
     "metadata": {},
     "output_type": "execute_result"
    }
   ],
   "source": []
  },
  {
   "cell_type": "code",
   "execution_count": null,
   "metadata": {},
   "outputs": [],
   "source": []
  }
 ],
 "metadata": {
  "kernelspec": {
   "display_name": "Python 3.8.12 ('base')",
   "language": "python",
   "name": "python3"
  },
  "language_info": {
   "codemirror_mode": {
    "name": "ipython",
    "version": 3
   },
   "file_extension": ".py",
   "mimetype": "text/x-python",
   "name": "python",
   "nbconvert_exporter": "python",
   "pygments_lexer": "ipython3",
   "version": "3.8.12"
  },
  "vscode": {
   "interpreter": {
    "hash": "40d3a090f54c6569ab1632332b64b2c03c39dcf918b08424e98f38b5ae0af88f"
   }
  }
 },
 "nbformat": 4,
 "nbformat_minor": 4
}
