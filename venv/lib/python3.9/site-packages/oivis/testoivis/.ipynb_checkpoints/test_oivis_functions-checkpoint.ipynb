{
 "cells": [
  {
   "cell_type": "markdown",
   "metadata": {},
   "source": [
    "# Examples of oifits visibility functions\n",
    "\n",
    "*NB: each section is self consistent*"
   ]
  },
  {
   "cell_type": "code",
   "execution_count": 1,
   "metadata": {},
   "outputs": [
    {
     "name": "stdout",
     "output_type": "stream",
     "text": [
      "Populating the interactive namespace from numpy and matplotlib\n"
     ]
    }
   ],
   "source": [
    "%pylab inline"
   ]
  },
  {
   "cell_type": "code",
   "execution_count": 8,
   "metadata": {},
   "outputs": [],
   "source": [
    "from oivis.oifits import oifits_functions\n",
    "from scipy import constants\n",
    "import importlib"
   ]
  },
  {
   "cell_type": "code",
   "execution_count": 226,
   "metadata": {},
   "outputs": [
    {
     "data": {
      "text/plain": [
       "<module 'oivis.oifits.oifits_functions' from '/Users/bergejea/Software/tihpy/oivis/oifits/oifits_functions.py'>"
      ]
     },
     "execution_count": 226,
     "metadata": {},
     "output_type": "execute_result"
    }
   ],
   "source": [
    "importlib.reload(oifits_functions)"
   ]
  },
  {
   "cell_type": "markdown",
   "metadata": {},
   "source": [
    "### Point source"
   ]
  },
  {
   "cell_type": "code",
   "execution_count": 205,
   "metadata": {
    "collapsed": true
   },
   "outputs": [],
   "source": [
    "npoints = 100\n",
    "u = np.linspace(0.01,130, npoints)\n",
    "v = np.linspace(0.01,130, npoints)\n",
    "refwavel = 1.65e-6\n",
    "wavel = np.ones(npoints) * refwavel\n",
    "x = [u, v, wavel, refwavel]\n",
    "basep = np.sqrt(u**2 + v**2)"
   ]
  },
  {
   "cell_type": "code",
   "execution_count": 206,
   "metadata": {
    "collapsed": true
   },
   "outputs": [],
   "source": [
    "params = {}\n",
    "params['FLUX'] = 1.0\n",
    "params['SPI'] = 0.0\n",
    "params['OFX'] = 0.0\n",
    "params['OFY'] = 0.0"
   ]
  },
  {
   "cell_type": "code",
   "execution_count": 207,
   "metadata": {},
   "outputs": [],
   "source": [
    "visdat = oifits_functions.vis_point_source(x, params)"
   ]
  },
  {
   "cell_type": "code",
   "execution_count": 208,
   "metadata": {},
   "outputs": [
    {
     "data": {
      "text/plain": [
       "(0, 1.1)"
      ]
     },
     "execution_count": 208,
     "metadata": {},
     "output_type": "execute_result"
    },
    {
     "data": {
      "image/png": "[encoded data removed]",
      "text/plain": [
       "<matplotlib.figure.Figure at 0x11ce2c4a8>"
      ]
     },
     "metadata": {},
     "output_type": "display_data"
    }
   ],
   "source": [
    "plt.figure(1)\n",
    "ax = plt.subplot(111)\n",
    "ax.plot(basep, np.abs(visdat['VIS']), 'o', alpha=0.3)\n",
    "ax.set_ylabel('Visibility')\n",
    "ax.set_xlabel('Base (m)')\n",
    "ax.set_ylim(0,1.1)"
   ]
  },
  {
   "cell_type": "markdown",
   "metadata": {},
   "source": [
    "### Uniform disk"
   ]
  },
  {
   "cell_type": "code",
   "execution_count": 209,
   "metadata": {
    "collapsed": true
   },
   "outputs": [],
   "source": [
    "npoints = 100\n",
    "u = np.linspace(0.01,130, npoints)\n",
    "v = np.linspace(0.01,130, npoints)\n",
    "refwavel = 1.65e-6\n",
    "wavel = np.ones(npoints) * refwavel\n",
    "x = [u, v, wavel, refwavel]\n",
    "basep = np.sqrt(u**2 + v**2)"
   ]
  },
  {
   "cell_type": "code",
   "execution_count": 210,
   "metadata": {},
   "outputs": [],
   "source": [
    "# diameter\n",
    "diam = 15 # milliarcsecond\n",
    "params = {}\n",
    "params['POSANG'] = 0\n",
    "params['FLUX'] = 1.0\n",
    "params['SPI'] = 0.0\n",
    "params['OFX'] = 0.0\n",
    "params['OFY'] = 0.0\n",
    "params['ERATIO'] = 0.0\n",
    "params['DIAM'] = diam * constants.arcsecond / 1000"
   ]
  },
  {
   "cell_type": "code",
   "execution_count": 211,
   "metadata": {},
   "outputs": [],
   "source": [
    "visdat = oifits_functions.vis_uniform_disk(x, params)"
   ]
  },
  {
   "cell_type": "code",
   "execution_count": 212,
   "metadata": {},
   "outputs": [
    {
     "data": {
      "text/plain": [
       "<matplotlib.text.Text at 0x11ceb3ba8>"
      ]
     },
     "execution_count": 212,
     "metadata": {},
     "output_type": "execute_result"
    },
    {
     "data": {
      "image/png": "[encoded data removed]",
      "text/plain": [
       "<matplotlib.figure.Figure at 0x11c852cf8>"
      ]
     },
     "metadata": {},
     "output_type": "display_data"
    }
   ],
   "source": [
    "plt.figure(1)\n",
    "ax = plt.subplot(111)\n",
    "ax.plot(basep, np.abs(visdat['VIS']), 'o', alpha=0.3)\n",
    "ax.set_ylabel('Visibility')\n",
    "ax.set_xlabel('Base (m)')"
   ]
  },
  {
   "cell_type": "markdown",
   "metadata": {},
   "source": [
    "### Uniform ring"
   ]
  },
  {
   "cell_type": "code",
   "execution_count": 224,
   "metadata": {
    "collapsed": true
   },
   "outputs": [],
   "source": [
    "npoints = 100\n",
    "u = np.linspace(0.01,130, npoints)\n",
    "v = np.linspace(0.01,130, npoints)\n",
    "refwavel = 1.65e-6\n",
    "wavel = np.ones(npoints) * refwavel\n",
    "x = [u, v, wavel, refwavel]\n",
    "basep = np.sqrt(u**2 + v**2)"
   ]
  },
  {
   "cell_type": "code",
   "execution_count": 228,
   "metadata": {
    "collapsed": true
   },
   "outputs": [],
   "source": [
    "#inner diameter\n",
    "indiam = 7.5 # milli-arcseconds\n",
    "# rim width\n",
    "width = 2.0 # milli-arcsecond\n",
    "params = {}\n",
    "params['POSANG'] = 0\n",
    "params['FLUX'] = 1.0\n",
    "params['SPI'] = 0.0\n",
    "params['OFX'] = 0.0\n",
    "params['OFY'] = 0.0\n",
    "params['ERATIO'] = 1.0\n",
    "params['INDIAM'] = indiam * constants.arcsecond / 1000\n",
    "params['WIDTH'] = width * constants.arcsecond / 1000"
   ]
  },
  {
   "cell_type": "code",
   "execution_count": 229,
   "metadata": {},
   "outputs": [],
   "source": [
    "visdat = oifits_functions.vis_uniform_ring(x, params)"
   ]
  },
  {
   "cell_type": "code",
   "execution_count": 230,
   "metadata": {},
   "outputs": [
    {
     "data": {
      "text/plain": [
       "<matplotlib.text.Text at 0x11ce2cac8>"
      ]
     },
     "execution_count": 230,
     "metadata": {},
     "output_type": "execute_result"
    },
    {
     "data": {
      "image/png": "[encoded data removed]",
      "text/plain": [
       "<matplotlib.figure.Figure at 0x11ce15da0>"
      ]
     },
     "metadata": {},
     "output_type": "display_data"
    }
   ],
   "source": [
    "plt.figure(1)\n",
    "ax = plt.subplot(111)\n",
    "ax.plot(basep, np.abs(visdat['VIS']), 'o', alpha=0.3)\n",
    "ax.set_ylabel('Visibility')\n",
    "ax.set_xlabel('Base (m)')"
   ]
  },
  {
   "cell_type": "markdown",
   "metadata": {},
   "source": [
    "### Combining two functions"
   ]
  },
  {
   "cell_type": "markdown",
   "metadata": {},
   "source": [
    "**Uniform disk and point like source**"
   ]
  },
  {
   "cell_type": "code",
   "execution_count": 217,
   "metadata": {
    "collapsed": true
   },
   "outputs": [],
   "source": [
    "npoints = 500\n",
    "u = np.linspace(0.01,200, npoints)\n",
    "v = np.linspace(0.01,200, npoints)\n",
    "refwavel = 1.65e-6\n",
    "wavel = np.ones(npoints) * refwavel\n",
    "x = [u, v, wavel, refwavel]\n",
    "basep = np.sqrt(u**2 + v**2)"
   ]
  },
  {
   "cell_type": "code",
   "execution_count": 221,
   "metadata": {},
   "outputs": [],
   "source": [
    "params = {}\n",
    "separation = 20 # milliarcsecond\n",
    "diam = 5 # milliarcsecond\n",
    "# Uniform diameter star\n",
    "params['vis_uniform_disk;1:POSANG'] = 0\n",
    "params['vis_uniform_disk;1:FLUX'] = 1.0\n",
    "params['vis_uniform_disk;1:SPI'] = 0.0\n",
    "params['vis_uniform_disk;1:OFX'] = 0.0\n",
    "params['vis_uniform_disk;1:OFY'] = 0.0\n",
    "params['vis_uniform_disk;1:ERATIO'] = 0.0\n",
    "params['vis_uniform_disk;1:DIAM'] = diam * constants.arcsecond / 1000\n",
    "# Point like source star\n",
    "params['vis_point_source;1:FLUX'] = 0.5\n",
    "params['vis_point_source;1:SPI'] = 0.0\n",
    "params['vis_point_source;1:OFX'] = separation * constants.arcsecond / 1000.0\n",
    "params['vis_point_source;1:OFY'] = 0.0"
   ]
  },
  {
   "cell_type": "code",
   "execution_count": 222,
   "metadata": {},
   "outputs": [
    {
     "name": "stdout",
     "output_type": "stream",
     "text": [
      "Found function vis_uniform_disk\n",
      "Found function vis_point_source\n"
     ]
    }
   ],
   "source": [
    "visdat = oifits_functions.combine_functions(x, params)"
   ]
  },
  {
   "cell_type": "code",
   "execution_count": 223,
   "metadata": {},
   "outputs": [
    {
     "data": {
      "text/plain": [
       "<matplotlib.collections.LineCollection at 0x11d36ab00>"
      ]
     },
     "execution_count": 223,
     "metadata": {},
     "output_type": "execute_result"
    },
    {
     "data": {
      "image/png": "[encoded data removed]",
      "text/plain": [
       "<matplotlib.figure.Figure at 0x11d0a4b00>"
      ]
     },
     "metadata": {},
     "output_type": "display_data"
    }
   ],
   "source": [
    "plt.figure(1)\n",
    "ax = plt.subplot(111)\n",
    "ax.plot(basep, np.abs(visdat['VIS']), 'o', alpha=0.3)\n",
    "ax.set_ylabel('Visibility')\n",
    "ax.set_xlabel('Base (m)')\n",
    "ax.set_ylim(0,1.1)\n",
    "ax.hlines(0.33, 0, 250,linestyles=\"dashed\")"
   ]
  },
  {
   "cell_type": "code",
   "execution_count": null,
   "metadata": {
    "collapsed": true
   },
   "outputs": [],
   "source": []
  }
 ],
 "metadata": {
  "kernelspec": {
   "display_name": "Python 3",
   "language": "python",
   "name": "python3"
  },
  "language_info": {
   "codemirror_mode": {
    "name": "ipython",
    "version": 3
   },
   "file_extension": ".py",
   "mimetype": "text/x-python",
   "name": "python",
   "nbconvert_exporter": "python",
   "pygments_lexer": "ipython3",
   "version": "3.6.7"
  }
 },
 "nbformat": 4,
 "nbformat_minor": 2
}
